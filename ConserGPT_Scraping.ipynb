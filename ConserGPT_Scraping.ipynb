{
 "cells": [
  {
   "cell_type": "code",
   "execution_count": 1,
   "metadata": {},
   "outputs": [
    {
     "name": "stdout",
     "output_type": "stream",
     "text": [
      "Requirement already satisfied: selenium in c:\\users\\lruiz\\miniforge3\\envs\\py311\\lib\\site-packages (4.15.2)\n",
      "Requirement already satisfied: urllib3<3,>=1.26 in c:\\users\\lruiz\\miniforge3\\envs\\py311\\lib\\site-packages (from urllib3[socks]<3,>=1.26->selenium) (2.0.7)\n",
      "Requirement already satisfied: trio~=0.17 in c:\\users\\lruiz\\miniforge3\\envs\\py311\\lib\\site-packages (from selenium) (0.23.1)\n",
      "Requirement already satisfied: trio-websocket~=0.9 in c:\\users\\lruiz\\miniforge3\\envs\\py311\\lib\\site-packages (from selenium) (0.11.1)\n",
      "Requirement already satisfied: certifi>=2021.10.8 in c:\\users\\lruiz\\appdata\\roaming\\python\\python311\\site-packages (from selenium) (2022.12.7)\n",
      "Requirement already satisfied: attrs>=20.1.0 in c:\\users\\lruiz\\miniforge3\\envs\\py311\\lib\\site-packages (from trio~=0.17->selenium) (23.1.0)\n",
      "Requirement already satisfied: sortedcontainers in c:\\users\\lruiz\\miniforge3\\envs\\py311\\lib\\site-packages (from trio~=0.17->selenium) (2.4.0)\n",
      "Requirement already satisfied: idna in c:\\users\\lruiz\\miniforge3\\envs\\py311\\lib\\site-packages (from trio~=0.17->selenium) (3.4)\n",
      "Requirement already satisfied: outcome in c:\\users\\lruiz\\miniforge3\\envs\\py311\\lib\\site-packages (from trio~=0.17->selenium) (1.3.0.post0)\n",
      "Requirement already satisfied: sniffio>=1.3.0 in c:\\users\\lruiz\\miniforge3\\envs\\py311\\lib\\site-packages (from trio~=0.17->selenium) (1.3.0)\n",
      "Requirement already satisfied: cffi>=1.14 in c:\\users\\lruiz\\miniforge3\\envs\\py311\\lib\\site-packages (from trio~=0.17->selenium) (1.16.0)\n",
      "Requirement already satisfied: wsproto>=0.14 in c:\\users\\lruiz\\miniforge3\\envs\\py311\\lib\\site-packages (from trio-websocket~=0.9->selenium) (1.2.0)\n",
      "Requirement already satisfied: pysocks!=1.5.7,<2.0,>=1.5.6 in c:\\users\\lruiz\\miniforge3\\envs\\py311\\lib\\site-packages (from urllib3[socks]<3,>=1.26->selenium) (1.7.1)\n",
      "Requirement already satisfied: pycparser in c:\\users\\lruiz\\miniforge3\\envs\\py311\\lib\\site-packages (from cffi>=1.14->trio~=0.17->selenium) (2.21)\n",
      "Requirement already satisfied: h11<1,>=0.9.0 in c:\\users\\lruiz\\miniforge3\\envs\\py311\\lib\\site-packages (from wsproto>=0.14->trio-websocket~=0.9->selenium) (0.14.0)\n",
      "Note: you may need to restart the kernel to use updated packages.\n"
     ]
    }
   ],
   "source": [
    "%pip install selenium"
   ]
  },
  {
   "cell_type": "code",
   "execution_count": 2,
   "metadata": {},
   "outputs": [],
   "source": [
    "# -*- coding: utf-8 -*-"
   ]
  },
  {
   "cell_type": "code",
   "execution_count": 6,
   "metadata": {},
   "outputs": [],
   "source": [
    "from selenium import webdriver\n",
    "from selenium.webdriver.common.by import By\n",
    "from selenium.webdriver.chrome.service import Service as ChromeService\n",
    "\n",
    "url = \"https://www.adideandalucia.es/index.php?view=normativa\"\n",
    "\n",
    "# Configura el controlador del navegador (asegúrate de tener el controlador de Chrome instalado)\n",
    "chrome_path = \"./chromedriver.exe\"\n",
    "service = ChromeService(chrome_path)\n",
    "driver = webdriver.Chrome(service=service)\n",
    "\n",
    "# Abre la página web\n",
    "driver.get(url)\n",
    "\n",
    "# Espera a que el contenido dinámico generado por JavaScript cargue completamente\n",
    "# Puedes ajustar este tiempo según sea necesario\n",
    "driver.implicitly_wait(10)\n",
    "\n",
    "# Encuentra la tabla por algún identificador, clase, etc.\n",
    "\n",
    "#!##################################################### --> H3\n",
    "\n",
    "module = driver.find_elements(By.XPATH, \"//div[@class='module-inner']\")\n",
    "\n",
    "datos_title = []\n",
    "\n",
    "for titles in module: \n",
    "    h3s = titles.find_elements(By.TAG_NAME, 'h3')\n",
    "    if titles:\n",
    "        for h3 in h3s:\n",
    "            if len(h3.text) == 1:\n",
    "                datos_title.append(h3.text)\n",
    "\n",
    "# Cierra el navegador\n",
    "driver.quit()\n",
    "\n",
    "#!##################################################### --> Tables\n",
    "\n"
   ]
  },
  {
   "cell_type": "code",
   "execution_count": null,
   "metadata": {},
   "outputs": [],
   "source": []
  }
 ],
 "metadata": {
  "kernelspec": {
   "display_name": "py311",
   "language": "python",
   "name": "python3"
  },
  "language_info": {
   "codemirror_mode": {
    "name": "ipython",
    "version": 3
   },
   "file_extension": ".py",
   "mimetype": "text/x-python",
   "name": "python",
   "nbconvert_exporter": "python",
   "pygments_lexer": "ipython3",
   "version": "3.11.6"
  }
 },
 "nbformat": 4,
 "nbformat_minor": 2
}
